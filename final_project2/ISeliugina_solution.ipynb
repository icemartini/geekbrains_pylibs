{
 "cells": [
  {
   "cell_type": "code",
   "execution_count": 1405,
   "id": "078773a1",
   "metadata": {},
   "outputs": [],
   "source": [
    "# !pip install catboost"
   ]
  },
  {
   "cell_type": "code",
   "execution_count": 1406,
   "id": "f3a8ebac",
   "metadata": {},
   "outputs": [],
   "source": [
    "import numpy as np\n",
    "import pandas as pd\n",
    "import matplotlib.pyplot as plt\n",
    "import seaborn as sns\n",
    "from sklearn.model_selection import train_test_split\n",
    "from sklearn.metrics import confusion_matrix, classification_report, f1_score\n",
    "import catboost as catb\n",
    "\n",
    "%matplotlib inline\n",
    "import warnings\n",
    "warnings.filterwarnings('ignore')"
   ]
  },
  {
   "cell_type": "code",
   "execution_count": 1407,
   "id": "bff15be9",
   "metadata": {},
   "outputs": [],
   "source": [
    "def get_classification_report(y_train_true, y_train_pred, y_test_true, y_test_pred):\n",
    "    print('TRAIN\\n\\n' + classification_report(y_train_true, y_train_pred))\n",
    "    print('TEST\\n\\n' + classification_report(y_test_true, y_test_pred))\n",
    "    print('CONFUSION MATRIX\\n')\n",
    "    print(pd.crosstab(y_test_true, y_test_pred))"
   ]
  },
  {
   "cell_type": "code",
   "execution_count": 1408,
   "id": "51357ad2",
   "metadata": {},
   "outputs": [],
   "source": [
    "def balance_df_by_target(df, target_name):\n",
    "\n",
    "    target_counts = df[target_name].value_counts()\n",
    "\n",
    "    major_class_name = target_counts.argmax()\n",
    "    minor_class_name = target_counts.argmin()\n",
    "\n",
    "    disbalance_coeff = int(target_counts[major_class_name] / target_counts[minor_class_name]) - 1\n",
    "\n",
    "    for i in range(disbalance_coeff):\n",
    "        sample = df[df[target_name] == minor_class_name].sample(target_counts[minor_class_name], random_state=17)\n",
    "        df = df.append(sample, ignore_index=True)\n",
    "\n",
    "    return df.sample(frac=1, random_state=17) "
   ]
  },
  {
   "cell_type": "code",
   "execution_count": 1409,
   "id": "76e7175e",
   "metadata": {},
   "outputs": [],
   "source": [
    "def reduce_mem_usage(df):\n",
    "    \"\"\" iterate through all the columns of a dataframe and modify the data type\n",
    "        to reduce memory usage.        \n",
    "    \"\"\"\n",
    "    start_mem = df.memory_usage().sum() / 1024**2\n",
    "    print('Memory usage of dataframe is {:.2f} MB'.format(start_mem))\n",
    "    \n",
    "    for col in df.columns:\n",
    "        col_type = df[col].dtype\n",
    "        \n",
    "        if col_type != object:\n",
    "            c_min = df[col].min()\n",
    "            c_max = df[col].max()\n",
    "            if str(col_type)[:3] == 'int':\n",
    "                if c_min > np.iinfo(np.int8).min and c_max < np.iinfo(np.int8).max:\n",
    "                    df[col] = df[col].astype(np.int8)\n",
    "                elif c_min > np.iinfo(np.int16).min and c_max < np.iinfo(np.int16).max:\n",
    "                    df[col] = df[col].astype(np.int16)\n",
    "                elif c_min > np.iinfo(np.int32).min and c_max < np.iinfo(np.int32).max:\n",
    "                    df[col] = df[col].astype(np.int32)\n",
    "                elif c_min > np.iinfo(np.int64).min and c_max < np.iinfo(np.int64).max:\n",
    "                    df[col] = df[col].astype(np.int64)  \n",
    "            else:\n",
    "                if c_min > np.finfo(np.float32).min and c_max < np.finfo(np.float32).max:\n",
    "                    df[col] = df[col].astype(np.float32)\n",
    "                else:\n",
    "                    df[col] = df[col].astype(np.float64)\n",
    "        else:\n",
    "            df[col] = df[col].astype('category')\n",
    "\n",
    "    end_mem = df.memory_usage().sum() / 1024**2\n",
    "    print('Memory usage after optimization is: {:.2f} MB'.format(end_mem))\n",
    "    print('Decreased by {:.1f}%'.format(100 * (start_mem - end_mem) / start_mem))\n",
    "    \n",
    "    return df"
   ]
  },
  {
   "cell_type": "code",
   "execution_count": 1410,
   "id": "406ca6ab",
   "metadata": {},
   "outputs": [],
   "source": [
    "DATASET_PATH = '../course_project_train.csv'\n",
    "PREDICT_PATH = '../course_project_test.csv'"
   ]
  },
  {
   "cell_type": "markdown",
   "id": "4970d10a",
   "metadata": {},
   "source": [
    "### Загрузка данных"
   ]
  },
  {
   "cell_type": "code",
   "execution_count": 1411,
   "id": "1589c000",
   "metadata": {},
   "outputs": [
    {
     "name": "stdout",
     "output_type": "stream",
     "text": [
      "Memory usage of dataframe is 0.97 MB\n",
      "Memory usage after optimization is: 0.38 MB\n",
      "Decreased by 60.9%\n"
     ]
    },
    {
     "data": {
      "text/html": [
       "<div>\n",
       "<style scoped>\n",
       "    .dataframe tbody tr th:only-of-type {\n",
       "        vertical-align: middle;\n",
       "    }\n",
       "\n",
       "    .dataframe tbody tr th {\n",
       "        vertical-align: top;\n",
       "    }\n",
       "\n",
       "    .dataframe thead th {\n",
       "        text-align: right;\n",
       "    }\n",
       "</style>\n",
       "<table border=\"1\" class=\"dataframe\">\n",
       "  <thead>\n",
       "    <tr style=\"text-align: right;\">\n",
       "      <th></th>\n",
       "      <th>0</th>\n",
       "      <th>1</th>\n",
       "      <th>2</th>\n",
       "      <th>3</th>\n",
       "      <th>4</th>\n",
       "    </tr>\n",
       "  </thead>\n",
       "  <tbody>\n",
       "    <tr>\n",
       "      <th>Home Ownership</th>\n",
       "      <td>Own Home</td>\n",
       "      <td>Own Home</td>\n",
       "      <td>Home Mortgage</td>\n",
       "      <td>Own Home</td>\n",
       "      <td>Rent</td>\n",
       "    </tr>\n",
       "    <tr>\n",
       "      <th>Annual Income</th>\n",
       "      <td>482087.0</td>\n",
       "      <td>1025487.0</td>\n",
       "      <td>751412.0</td>\n",
       "      <td>805068.0</td>\n",
       "      <td>776264.0</td>\n",
       "    </tr>\n",
       "    <tr>\n",
       "      <th>Years in current job</th>\n",
       "      <td>NaN</td>\n",
       "      <td>10+ years</td>\n",
       "      <td>8 years</td>\n",
       "      <td>6 years</td>\n",
       "      <td>8 years</td>\n",
       "    </tr>\n",
       "    <tr>\n",
       "      <th>Tax Liens</th>\n",
       "      <td>0.0</td>\n",
       "      <td>0.0</td>\n",
       "      <td>0.0</td>\n",
       "      <td>0.0</td>\n",
       "      <td>0.0</td>\n",
       "    </tr>\n",
       "    <tr>\n",
       "      <th>Number of Open Accounts</th>\n",
       "      <td>11.0</td>\n",
       "      <td>15.0</td>\n",
       "      <td>11.0</td>\n",
       "      <td>8.0</td>\n",
       "      <td>13.0</td>\n",
       "    </tr>\n",
       "    <tr>\n",
       "      <th>Years of Credit History</th>\n",
       "      <td>26.299999</td>\n",
       "      <td>15.3</td>\n",
       "      <td>35.0</td>\n",
       "      <td>22.5</td>\n",
       "      <td>13.6</td>\n",
       "    </tr>\n",
       "    <tr>\n",
       "      <th>Maximum Open Credit</th>\n",
       "      <td>685960.0</td>\n",
       "      <td>1181730.0</td>\n",
       "      <td>1182434.0</td>\n",
       "      <td>147400.0</td>\n",
       "      <td>385836.0</td>\n",
       "    </tr>\n",
       "    <tr>\n",
       "      <th>Number of Credit Problems</th>\n",
       "      <td>1.0</td>\n",
       "      <td>0.0</td>\n",
       "      <td>0.0</td>\n",
       "      <td>1.0</td>\n",
       "      <td>1.0</td>\n",
       "    </tr>\n",
       "    <tr>\n",
       "      <th>Months since last delinquent</th>\n",
       "      <td>NaN</td>\n",
       "      <td>NaN</td>\n",
       "      <td>NaN</td>\n",
       "      <td>NaN</td>\n",
       "      <td>NaN</td>\n",
       "    </tr>\n",
       "    <tr>\n",
       "      <th>Bankruptcies</th>\n",
       "      <td>1.0</td>\n",
       "      <td>0.0</td>\n",
       "      <td>0.0</td>\n",
       "      <td>1.0</td>\n",
       "      <td>0.0</td>\n",
       "    </tr>\n",
       "    <tr>\n",
       "      <th>Purpose</th>\n",
       "      <td>debt consolidation</td>\n",
       "      <td>debt consolidation</td>\n",
       "      <td>debt consolidation</td>\n",
       "      <td>debt consolidation</td>\n",
       "      <td>debt consolidation</td>\n",
       "    </tr>\n",
       "    <tr>\n",
       "      <th>Term</th>\n",
       "      <td>Short Term</td>\n",
       "      <td>Long Term</td>\n",
       "      <td>Short Term</td>\n",
       "      <td>Short Term</td>\n",
       "      <td>Short Term</td>\n",
       "    </tr>\n",
       "    <tr>\n",
       "      <th>Current Loan Amount</th>\n",
       "      <td>100000000.0</td>\n",
       "      <td>264968.0</td>\n",
       "      <td>100000000.0</td>\n",
       "      <td>121396.0</td>\n",
       "      <td>125840.0</td>\n",
       "    </tr>\n",
       "    <tr>\n",
       "      <th>Current Credit Balance</th>\n",
       "      <td>47386.0</td>\n",
       "      <td>394972.0</td>\n",
       "      <td>308389.0</td>\n",
       "      <td>95855.0</td>\n",
       "      <td>93309.0</td>\n",
       "    </tr>\n",
       "    <tr>\n",
       "      <th>Monthly Debt</th>\n",
       "      <td>7914.0</td>\n",
       "      <td>18373.0</td>\n",
       "      <td>13651.0</td>\n",
       "      <td>11338.0</td>\n",
       "      <td>7180.0</td>\n",
       "    </tr>\n",
       "    <tr>\n",
       "      <th>Credit Score</th>\n",
       "      <td>749.0</td>\n",
       "      <td>737.0</td>\n",
       "      <td>742.0</td>\n",
       "      <td>694.0</td>\n",
       "      <td>719.0</td>\n",
       "    </tr>\n",
       "    <tr>\n",
       "      <th>Credit Default</th>\n",
       "      <td>0</td>\n",
       "      <td>1</td>\n",
       "      <td>0</td>\n",
       "      <td>0</td>\n",
       "      <td>0</td>\n",
       "    </tr>\n",
       "  </tbody>\n",
       "</table>\n",
       "</div>"
      ],
      "text/plain": [
       "                                               0                   1  \\\n",
       "Home Ownership                          Own Home            Own Home   \n",
       "Annual Income                           482087.0           1025487.0   \n",
       "Years in current job                         NaN           10+ years   \n",
       "Tax Liens                                    0.0                 0.0   \n",
       "Number of Open Accounts                     11.0                15.0   \n",
       "Years of Credit History                26.299999                15.3   \n",
       "Maximum Open Credit                     685960.0           1181730.0   \n",
       "Number of Credit Problems                    1.0                 0.0   \n",
       "Months since last delinquent                 NaN                 NaN   \n",
       "Bankruptcies                                 1.0                 0.0   \n",
       "Purpose                       debt consolidation  debt consolidation   \n",
       "Term                                  Short Term           Long Term   \n",
       "Current Loan Amount                  100000000.0            264968.0   \n",
       "Current Credit Balance                   47386.0            394972.0   \n",
       "Monthly Debt                              7914.0             18373.0   \n",
       "Credit Score                               749.0               737.0   \n",
       "Credit Default                                 0                   1   \n",
       "\n",
       "                                               2                   3  \\\n",
       "Home Ownership                     Home Mortgage            Own Home   \n",
       "Annual Income                           751412.0            805068.0   \n",
       "Years in current job                     8 years             6 years   \n",
       "Tax Liens                                    0.0                 0.0   \n",
       "Number of Open Accounts                     11.0                 8.0   \n",
       "Years of Credit History                     35.0                22.5   \n",
       "Maximum Open Credit                    1182434.0            147400.0   \n",
       "Number of Credit Problems                    0.0                 1.0   \n",
       "Months since last delinquent                 NaN                 NaN   \n",
       "Bankruptcies                                 0.0                 1.0   \n",
       "Purpose                       debt consolidation  debt consolidation   \n",
       "Term                                  Short Term          Short Term   \n",
       "Current Loan Amount                  100000000.0            121396.0   \n",
       "Current Credit Balance                  308389.0             95855.0   \n",
       "Monthly Debt                             13651.0             11338.0   \n",
       "Credit Score                               742.0               694.0   \n",
       "Credit Default                                 0                   0   \n",
       "\n",
       "                                               4  \n",
       "Home Ownership                              Rent  \n",
       "Annual Income                           776264.0  \n",
       "Years in current job                     8 years  \n",
       "Tax Liens                                    0.0  \n",
       "Number of Open Accounts                     13.0  \n",
       "Years of Credit History                     13.6  \n",
       "Maximum Open Credit                     385836.0  \n",
       "Number of Credit Problems                    1.0  \n",
       "Months since last delinquent                 NaN  \n",
       "Bankruptcies                                 0.0  \n",
       "Purpose                       debt consolidation  \n",
       "Term                                  Short Term  \n",
       "Current Loan Amount                     125840.0  \n",
       "Current Credit Balance                   93309.0  \n",
       "Monthly Debt                              7180.0  \n",
       "Credit Score                               719.0  \n",
       "Credit Default                                 0  "
      ]
     },
     "execution_count": 1411,
     "metadata": {},
     "output_type": "execute_result"
    }
   ],
   "source": [
    "df = pd.read_csv(DATASET_PATH)\n",
    "df = reduce_mem_usage(df)\n",
    "df.head().T"
   ]
  },
  {
   "cell_type": "code",
   "execution_count": 1412,
   "id": "d3b36103",
   "metadata": {},
   "outputs": [
    {
     "data": {
      "text/plain": [
       "(7500, 17)"
      ]
     },
     "execution_count": 1412,
     "metadata": {},
     "output_type": "execute_result"
    }
   ],
   "source": [
    "df.shape"
   ]
  },
  {
   "cell_type": "code",
   "execution_count": 1413,
   "id": "9c2441c8",
   "metadata": {},
   "outputs": [
    {
     "name": "stdout",
     "output_type": "stream",
     "text": [
      "<class 'pandas.core.frame.DataFrame'>\n",
      "RangeIndex: 7500 entries, 0 to 7499\n",
      "Data columns (total 17 columns):\n",
      " #   Column                        Non-Null Count  Dtype   \n",
      "---  ------                        --------------  -----   \n",
      " 0   Home Ownership                7500 non-null   category\n",
      " 1   Annual Income                 5943 non-null   float32 \n",
      " 2   Years in current job          7129 non-null   category\n",
      " 3   Tax Liens                     7500 non-null   float32 \n",
      " 4   Number of Open Accounts       7500 non-null   float32 \n",
      " 5   Years of Credit History       7500 non-null   float32 \n",
      " 6   Maximum Open Credit           7500 non-null   float32 \n",
      " 7   Number of Credit Problems     7500 non-null   float32 \n",
      " 8   Months since last delinquent  3419 non-null   float32 \n",
      " 9   Bankruptcies                  7486 non-null   float32 \n",
      " 10  Purpose                       7500 non-null   category\n",
      " 11  Term                          7500 non-null   category\n",
      " 12  Current Loan Amount           7500 non-null   float32 \n",
      " 13  Current Credit Balance        7500 non-null   float32 \n",
      " 14  Monthly Debt                  7500 non-null   float32 \n",
      " 15  Credit Score                  5943 non-null   float32 \n",
      " 16  Credit Default                7500 non-null   int8    \n",
      "dtypes: category(4), float32(12), int8(1)\n",
      "memory usage: 389.7 KB\n"
     ]
    }
   ],
   "source": [
    "df.info()"
   ]
  },
  {
   "cell_type": "markdown",
   "id": "fa0cb328",
   "metadata": {},
   "source": [
    "### Обзор данных"
   ]
  },
  {
   "cell_type": "markdown",
   "id": "ecf5a624",
   "metadata": {},
   "source": [
    "**Обзор целевой переменной**"
   ]
  },
  {
   "cell_type": "code",
   "execution_count": 1414,
   "id": "5663124a",
   "metadata": {},
   "outputs": [
    {
     "data": {
      "text/plain": [
       "0    5387\n",
       "1    2113\n",
       "Name: Credit Default, dtype: int64"
      ]
     },
     "execution_count": 1414,
     "metadata": {},
     "output_type": "execute_result"
    }
   ],
   "source": [
    "df['Credit Default'].value_counts()"
   ]
  },
  {
   "cell_type": "markdown",
   "id": "59526221",
   "metadata": {},
   "source": [
    "Наблюдаем дисбаланс классов, его нужно будет исправить"
   ]
  },
  {
   "cell_type": "markdown",
   "id": "3fca835f",
   "metadata": {},
   "source": [
    "**Обзор количественных признаков**"
   ]
  },
  {
   "cell_type": "code",
   "execution_count": 1415,
   "id": "adf79726",
   "metadata": {},
   "outputs": [
    {
     "data": {
      "text/html": [
       "<div>\n",
       "<style scoped>\n",
       "    .dataframe tbody tr th:only-of-type {\n",
       "        vertical-align: middle;\n",
       "    }\n",
       "\n",
       "    .dataframe tbody tr th {\n",
       "        vertical-align: top;\n",
       "    }\n",
       "\n",
       "    .dataframe thead th {\n",
       "        text-align: right;\n",
       "    }\n",
       "</style>\n",
       "<table border=\"1\" class=\"dataframe\">\n",
       "  <thead>\n",
       "    <tr style=\"text-align: right;\">\n",
       "      <th></th>\n",
       "      <th>Annual Income</th>\n",
       "      <th>Tax Liens</th>\n",
       "      <th>Number of Open Accounts</th>\n",
       "      <th>Years of Credit History</th>\n",
       "      <th>Maximum Open Credit</th>\n",
       "      <th>Number of Credit Problems</th>\n",
       "      <th>Months since last delinquent</th>\n",
       "      <th>Bankruptcies</th>\n",
       "      <th>Current Loan Amount</th>\n",
       "      <th>Current Credit Balance</th>\n",
       "      <th>Monthly Debt</th>\n",
       "      <th>Credit Score</th>\n",
       "      <th>Credit Default</th>\n",
       "    </tr>\n",
       "  </thead>\n",
       "  <tbody>\n",
       "    <tr>\n",
       "      <th>count</th>\n",
       "      <td>5.943000e+03</td>\n",
       "      <td>7500.000000</td>\n",
       "      <td>7500.000000</td>\n",
       "      <td>7500.000000</td>\n",
       "      <td>7.500000e+03</td>\n",
       "      <td>7500.0000</td>\n",
       "      <td>3419.000000</td>\n",
       "      <td>7486.000000</td>\n",
       "      <td>7500.0</td>\n",
       "      <td>7.500000e+03</td>\n",
       "      <td>7500.000000</td>\n",
       "      <td>5943.000000</td>\n",
       "      <td>7500.000000</td>\n",
       "    </tr>\n",
       "    <tr>\n",
       "      <th>mean</th>\n",
       "      <td>1.366390e+06</td>\n",
       "      <td>0.030133</td>\n",
       "      <td>11.130934</td>\n",
       "      <td>18.317446</td>\n",
       "      <td>9.451526e+05</td>\n",
       "      <td>0.1700</td>\n",
       "      <td>34.692600</td>\n",
       "      <td>0.117152</td>\n",
       "      <td>11873135.0</td>\n",
       "      <td>2.898332e+05</td>\n",
       "      <td>18314.453125</td>\n",
       "      <td>1151.087524</td>\n",
       "      <td>0.281733</td>\n",
       "    </tr>\n",
       "    <tr>\n",
       "      <th>std</th>\n",
       "      <td>8.453384e+05</td>\n",
       "      <td>0.271613</td>\n",
       "      <td>4.908937</td>\n",
       "      <td>7.041938</td>\n",
       "      <td>1.602614e+07</td>\n",
       "      <td>0.4986</td>\n",
       "      <td>21.688801</td>\n",
       "      <td>0.347197</td>\n",
       "      <td>31926302.0</td>\n",
       "      <td>3.178713e+05</td>\n",
       "      <td>11926.758789</td>\n",
       "      <td>1604.447510</td>\n",
       "      <td>0.449874</td>\n",
       "    </tr>\n",
       "    <tr>\n",
       "      <th>min</th>\n",
       "      <td>1.645970e+05</td>\n",
       "      <td>0.000000</td>\n",
       "      <td>2.000000</td>\n",
       "      <td>4.000000</td>\n",
       "      <td>0.000000e+00</td>\n",
       "      <td>0.0000</td>\n",
       "      <td>0.000000</td>\n",
       "      <td>0.000000</td>\n",
       "      <td>11242.0</td>\n",
       "      <td>0.000000e+00</td>\n",
       "      <td>0.000000</td>\n",
       "      <td>585.000000</td>\n",
       "      <td>0.000000</td>\n",
       "    </tr>\n",
       "    <tr>\n",
       "      <th>25%</th>\n",
       "      <td>8.443410e+05</td>\n",
       "      <td>0.000000</td>\n",
       "      <td>8.000000</td>\n",
       "      <td>13.500000</td>\n",
       "      <td>2.792295e+05</td>\n",
       "      <td>0.0000</td>\n",
       "      <td>16.000000</td>\n",
       "      <td>0.000000</td>\n",
       "      <td>180169.0</td>\n",
       "      <td>1.142565e+05</td>\n",
       "      <td>10067.500000</td>\n",
       "      <td>711.000000</td>\n",
       "      <td>0.000000</td>\n",
       "    </tr>\n",
       "    <tr>\n",
       "      <th>50%</th>\n",
       "      <td>1.168386e+06</td>\n",
       "      <td>0.000000</td>\n",
       "      <td>10.000000</td>\n",
       "      <td>17.000000</td>\n",
       "      <td>4.781590e+05</td>\n",
       "      <td>0.0000</td>\n",
       "      <td>32.000000</td>\n",
       "      <td>0.000000</td>\n",
       "      <td>309573.0</td>\n",
       "      <td>2.093230e+05</td>\n",
       "      <td>16076.500000</td>\n",
       "      <td>731.000000</td>\n",
       "      <td>0.000000</td>\n",
       "    </tr>\n",
       "    <tr>\n",
       "      <th>75%</th>\n",
       "      <td>1.640137e+06</td>\n",
       "      <td>0.000000</td>\n",
       "      <td>14.000000</td>\n",
       "      <td>21.799999</td>\n",
       "      <td>7.935015e+05</td>\n",
       "      <td>0.0000</td>\n",
       "      <td>50.000000</td>\n",
       "      <td>0.000000</td>\n",
       "      <td>519882.0</td>\n",
       "      <td>3.604062e+05</td>\n",
       "      <td>23818.000000</td>\n",
       "      <td>743.000000</td>\n",
       "      <td>1.000000</td>\n",
       "    </tr>\n",
       "    <tr>\n",
       "      <th>max</th>\n",
       "      <td>1.014934e+07</td>\n",
       "      <td>7.000000</td>\n",
       "      <td>43.000000</td>\n",
       "      <td>57.700001</td>\n",
       "      <td>1.304726e+09</td>\n",
       "      <td>7.0000</td>\n",
       "      <td>118.000000</td>\n",
       "      <td>4.000000</td>\n",
       "      <td>100000000.0</td>\n",
       "      <td>6.506797e+06</td>\n",
       "      <td>136679.000000</td>\n",
       "      <td>7510.000000</td>\n",
       "      <td>1.000000</td>\n",
       "    </tr>\n",
       "  </tbody>\n",
       "</table>\n",
       "</div>"
      ],
      "text/plain": [
       "       Annual Income    Tax Liens  Number of Open Accounts  \\\n",
       "count   5.943000e+03  7500.000000              7500.000000   \n",
       "mean    1.366390e+06     0.030133                11.130934   \n",
       "std     8.453384e+05     0.271613                 4.908937   \n",
       "min     1.645970e+05     0.000000                 2.000000   \n",
       "25%     8.443410e+05     0.000000                 8.000000   \n",
       "50%     1.168386e+06     0.000000                10.000000   \n",
       "75%     1.640137e+06     0.000000                14.000000   \n",
       "max     1.014934e+07     7.000000                43.000000   \n",
       "\n",
       "       Years of Credit History  Maximum Open Credit  \\\n",
       "count              7500.000000         7.500000e+03   \n",
       "mean                 18.317446         9.451526e+05   \n",
       "std                   7.041938         1.602614e+07   \n",
       "min                   4.000000         0.000000e+00   \n",
       "25%                  13.500000         2.792295e+05   \n",
       "50%                  17.000000         4.781590e+05   \n",
       "75%                  21.799999         7.935015e+05   \n",
       "max                  57.700001         1.304726e+09   \n",
       "\n",
       "       Number of Credit Problems  Months since last delinquent  Bankruptcies  \\\n",
       "count                  7500.0000                   3419.000000   7486.000000   \n",
       "mean                      0.1700                     34.692600      0.117152   \n",
       "std                       0.4986                     21.688801      0.347197   \n",
       "min                       0.0000                      0.000000      0.000000   \n",
       "25%                       0.0000                     16.000000      0.000000   \n",
       "50%                       0.0000                     32.000000      0.000000   \n",
       "75%                       0.0000                     50.000000      0.000000   \n",
       "max                       7.0000                    118.000000      4.000000   \n",
       "\n",
       "       Current Loan Amount  Current Credit Balance   Monthly Debt  \\\n",
       "count               7500.0            7.500000e+03    7500.000000   \n",
       "mean            11873135.0            2.898332e+05   18314.453125   \n",
       "std             31926302.0            3.178713e+05   11926.758789   \n",
       "min                11242.0            0.000000e+00       0.000000   \n",
       "25%               180169.0            1.142565e+05   10067.500000   \n",
       "50%               309573.0            2.093230e+05   16076.500000   \n",
       "75%               519882.0            3.604062e+05   23818.000000   \n",
       "max            100000000.0            6.506797e+06  136679.000000   \n",
       "\n",
       "       Credit Score  Credit Default  \n",
       "count   5943.000000     7500.000000  \n",
       "mean    1151.087524        0.281733  \n",
       "std     1604.447510        0.449874  \n",
       "min      585.000000        0.000000  \n",
       "25%      711.000000        0.000000  \n",
       "50%      731.000000        0.000000  \n",
       "75%      743.000000        1.000000  \n",
       "max     7510.000000        1.000000  "
      ]
     },
     "execution_count": 1415,
     "metadata": {},
     "output_type": "execute_result"
    }
   ],
   "source": [
    "df.describe()"
   ]
  },
  {
   "cell_type": "code",
   "execution_count": 1416,
   "id": "f6822fd9",
   "metadata": {},
   "outputs": [
    {
     "data": {
      "image/png": "[encoded data removed]",
      "text/plain": [
       "<Figure size 1152x1152 with 12 Axes>"
      ]
     },
     "metadata": {
      "needs_background": "light"
     },
     "output_type": "display_data"
    }
   ],
   "source": [
    "df.drop('Credit Default', axis=1).hist(figsize=(16,16), bins=20, grid=False);"
   ]
  },
  {
   "cell_type": "markdown",
   "id": "93b257e8",
   "metadata": {},
   "source": [
    "**Обзор номинативных признаков**"
   ]
  },
  {
   "cell_type": "code",
   "execution_count": 1417,
   "id": "c26d9dcc",
   "metadata": {
    "scrolled": false
   },
   "outputs": [
    {
     "name": "stdout",
     "output_type": "stream",
     "text": [
      "Home Ownership\n",
      "\n",
      "Home Mortgage    3637\n",
      "Rent             3204\n",
      "Own Home          647\n",
      "Have Mortgage      12\n",
      "Name: Home Ownership, dtype: int64\n",
      "****************************************\n",
      "\n",
      "Years in current job\n",
      "\n",
      "10+ years    2332\n",
      "2 years       705\n",
      "3 years       620\n",
      "< 1 year      563\n",
      "5 years       516\n",
      "1 year        504\n",
      "4 years       469\n",
      "6 years       426\n",
      "7 years       396\n",
      "8 years       339\n",
      "9 years       259\n",
      "Name: Years in current job, dtype: int64\n",
      "****************************************\n",
      "\n",
      "Purpose\n",
      "\n",
      "debt consolidation      5944\n",
      "other                    665\n",
      "home improvements        412\n",
      "business loan            129\n",
      "buy a car                 96\n",
      "medical bills             71\n",
      "major purchase            40\n",
      "take a trip               37\n",
      "buy house                 34\n",
      "small business            26\n",
      "wedding                   15\n",
      "moving                    11\n",
      "educational expenses      10\n",
      "vacation                   8\n",
      "renewable energy           2\n",
      "Name: Purpose, dtype: int64\n",
      "****************************************\n",
      "\n",
      "Term\n",
      "\n",
      "Short Term    5556\n",
      "Long Term     1944\n",
      "Name: Term, dtype: int64\n",
      "****************************************\n",
      "\n"
     ]
    }
   ],
   "source": [
    "for cat_colname in df.select_dtypes(include='category').columns:\n",
    "    print(str(cat_colname) + '\\n\\n' + str(df[cat_colname].value_counts()) + '\\n' + '*' * 40 + '\\n')"
   ]
  },
  {
   "cell_type": "markdown",
   "id": "2eb0e980",
   "metadata": {},
   "source": [
    "### Обработка пропусков"
   ]
  },
  {
   "cell_type": "code",
   "execution_count": 1418,
   "id": "39ef62d0",
   "metadata": {},
   "outputs": [
    {
     "data": {
      "text/plain": [
       "Home Ownership                     0\n",
       "Annual Income                   1557\n",
       "Years in current job             371\n",
       "Tax Liens                          0\n",
       "Number of Open Accounts            0\n",
       "Years of Credit History            0\n",
       "Maximum Open Credit                0\n",
       "Number of Credit Problems          0\n",
       "Months since last delinquent    4081\n",
       "Bankruptcies                      14\n",
       "Purpose                            0\n",
       "Term                               0\n",
       "Current Loan Amount                0\n",
       "Current Credit Balance             0\n",
       "Monthly Debt                       0\n",
       "Credit Score                    1557\n",
       "Credit Default                     0\n",
       "dtype: int64"
      ]
     },
     "execution_count": 1418,
     "metadata": {},
     "output_type": "execute_result"
    }
   ],
   "source": [
    "df.isna().sum()"
   ]
  },
  {
   "cell_type": "code",
   "execution_count": 1419,
   "id": "14dfe8a2",
   "metadata": {},
   "outputs": [],
   "source": [
    "df['Bankruptcies'].fillna(0, inplace=True)"
   ]
  },
  {
   "cell_type": "markdown",
   "id": "57290ca4",
   "metadata": {},
   "source": [
    "#### Years in current job"
   ]
  },
  {
   "cell_type": "code",
   "execution_count": 1420,
   "id": "084621d5",
   "metadata": {},
   "outputs": [],
   "source": [
    "df['YICJ_nan'] = 0\n",
    "df.loc[df['Years in current job'].isna(), 'YICJ_nan'] = 1"
   ]
  },
  {
   "cell_type": "markdown",
   "id": "5745dd63",
   "metadata": {},
   "source": [
    "Создадим новую категорию для пропусков и преобразуем категориальный признак в числовой"
   ]
  },
  {
   "cell_type": "code",
   "execution_count": 1421,
   "id": "7edeb118",
   "metadata": {},
   "outputs": [],
   "source": [
    "df['Years in current job'].cat.add_categories('nan', inplace=True)\n",
    "df['Years in current job'].fillna('nan', inplace=True)"
   ]
  },
  {
   "cell_type": "code",
   "execution_count": 1422,
   "id": "ec68932d",
   "metadata": {},
   "outputs": [],
   "source": [
    "mapping_dict = {\n",
    "    \"Years in current job\": {\n",
    "        \"10+ years\": 10,\n",
    "        \"9 years\": 9,\n",
    "        \"8 years\": 8,\n",
    "        \"7 years\": 7,\n",
    "        \"6 years\": 6,\n",
    "        \"5 years\": 5,\n",
    "        \"4 years\": 4,\n",
    "        \"3 years\": 3,\n",
    "        \"2 years\": 2,\n",
    "        \"1 year\": 1,\n",
    "        \"< 1 year\": 0,\n",
    "        \"nan\": 0\n",
    "    }\n",
    "}"
   ]
  },
  {
   "cell_type": "code",
   "execution_count": 1423,
   "id": "09196811",
   "metadata": {},
   "outputs": [],
   "source": [
    "df = df.replace(mapping_dict)\n",
    "df['Years in current job'] = df['Years in current job'].astype('int')"
   ]
  },
  {
   "cell_type": "markdown",
   "id": "be1383aa",
   "metadata": {},
   "source": [
    "#### Months since last delinquent"
   ]
  },
  {
   "cell_type": "code",
   "execution_count": 1424,
   "id": "383a8c1b",
   "metadata": {},
   "outputs": [
    {
     "data": {
      "text/html": [
       "<div>\n",
       "<style scoped>\n",
       "    .dataframe tbody tr th:only-of-type {\n",
       "        vertical-align: middle;\n",
       "    }\n",
       "\n",
       "    .dataframe tbody tr th {\n",
       "        vertical-align: top;\n",
       "    }\n",
       "\n",
       "    .dataframe thead th {\n",
       "        text-align: right;\n",
       "    }\n",
       "</style>\n",
       "<table border=\"1\" class=\"dataframe\">\n",
       "  <thead>\n",
       "    <tr style=\"text-align: right;\">\n",
       "      <th></th>\n",
       "      <th>Home Ownership</th>\n",
       "      <th>Annual Income</th>\n",
       "      <th>Years in current job</th>\n",
       "      <th>Tax Liens</th>\n",
       "      <th>Number of Open Accounts</th>\n",
       "      <th>Years of Credit History</th>\n",
       "      <th>Maximum Open Credit</th>\n",
       "      <th>Number of Credit Problems</th>\n",
       "      <th>Months since last delinquent</th>\n",
       "      <th>Bankruptcies</th>\n",
       "      <th>Purpose</th>\n",
       "      <th>Term</th>\n",
       "      <th>Current Loan Amount</th>\n",
       "      <th>Current Credit Balance</th>\n",
       "      <th>Monthly Debt</th>\n",
       "      <th>Credit Score</th>\n",
       "      <th>Credit Default</th>\n",
       "      <th>YICJ_nan</th>\n",
       "      <th>MSLD_nan</th>\n",
       "    </tr>\n",
       "  </thead>\n",
       "  <tbody>\n",
       "    <tr>\n",
       "      <th>0</th>\n",
       "      <td>Own Home</td>\n",
       "      <td>482087.0</td>\n",
       "      <td>0</td>\n",
       "      <td>0.0</td>\n",
       "      <td>11.0</td>\n",
       "      <td>26.299999</td>\n",
       "      <td>685960.0</td>\n",
       "      <td>1.0</td>\n",
       "      <td>NaN</td>\n",
       "      <td>1.0</td>\n",
       "      <td>debt consolidation</td>\n",
       "      <td>Short Term</td>\n",
       "      <td>100000000.0</td>\n",
       "      <td>47386.0</td>\n",
       "      <td>7914.0</td>\n",
       "      <td>749.0</td>\n",
       "      <td>0</td>\n",
       "      <td>1</td>\n",
       "      <td>1</td>\n",
       "    </tr>\n",
       "    <tr>\n",
       "      <th>1</th>\n",
       "      <td>Own Home</td>\n",
       "      <td>1025487.0</td>\n",
       "      <td>10</td>\n",
       "      <td>0.0</td>\n",
       "      <td>15.0</td>\n",
       "      <td>15.300000</td>\n",
       "      <td>1181730.0</td>\n",
       "      <td>0.0</td>\n",
       "      <td>NaN</td>\n",
       "      <td>0.0</td>\n",
       "      <td>debt consolidation</td>\n",
       "      <td>Long Term</td>\n",
       "      <td>264968.0</td>\n",
       "      <td>394972.0</td>\n",
       "      <td>18373.0</td>\n",
       "      <td>737.0</td>\n",
       "      <td>1</td>\n",
       "      <td>0</td>\n",
       "      <td>1</td>\n",
       "    </tr>\n",
       "    <tr>\n",
       "      <th>2</th>\n",
       "      <td>Home Mortgage</td>\n",
       "      <td>751412.0</td>\n",
       "      <td>8</td>\n",
       "      <td>0.0</td>\n",
       "      <td>11.0</td>\n",
       "      <td>35.000000</td>\n",
       "      <td>1182434.0</td>\n",
       "      <td>0.0</td>\n",
       "      <td>NaN</td>\n",
       "      <td>0.0</td>\n",
       "      <td>debt consolidation</td>\n",
       "      <td>Short Term</td>\n",
       "      <td>100000000.0</td>\n",
       "      <td>308389.0</td>\n",
       "      <td>13651.0</td>\n",
       "      <td>742.0</td>\n",
       "      <td>0</td>\n",
       "      <td>0</td>\n",
       "      <td>1</td>\n",
       "    </tr>\n",
       "    <tr>\n",
       "      <th>3</th>\n",
       "      <td>Own Home</td>\n",
       "      <td>805068.0</td>\n",
       "      <td>6</td>\n",
       "      <td>0.0</td>\n",
       "      <td>8.0</td>\n",
       "      <td>22.500000</td>\n",
       "      <td>147400.0</td>\n",
       "      <td>1.0</td>\n",
       "      <td>NaN</td>\n",
       "      <td>1.0</td>\n",
       "      <td>debt consolidation</td>\n",
       "      <td>Short Term</td>\n",
       "      <td>121396.0</td>\n",
       "      <td>95855.0</td>\n",
       "      <td>11338.0</td>\n",
       "      <td>694.0</td>\n",
       "      <td>0</td>\n",
       "      <td>0</td>\n",
       "      <td>1</td>\n",
       "    </tr>\n",
       "    <tr>\n",
       "      <th>4</th>\n",
       "      <td>Rent</td>\n",
       "      <td>776264.0</td>\n",
       "      <td>8</td>\n",
       "      <td>0.0</td>\n",
       "      <td>13.0</td>\n",
       "      <td>13.600000</td>\n",
       "      <td>385836.0</td>\n",
       "      <td>1.0</td>\n",
       "      <td>NaN</td>\n",
       "      <td>0.0</td>\n",
       "      <td>debt consolidation</td>\n",
       "      <td>Short Term</td>\n",
       "      <td>125840.0</td>\n",
       "      <td>93309.0</td>\n",
       "      <td>7180.0</td>\n",
       "      <td>719.0</td>\n",
       "      <td>0</td>\n",
       "      <td>0</td>\n",
       "      <td>1</td>\n",
       "    </tr>\n",
       "  </tbody>\n",
       "</table>\n",
       "</div>"
      ],
      "text/plain": [
       "  Home Ownership  Annual Income  Years in current job  Tax Liens  \\\n",
       "0       Own Home       482087.0                     0        0.0   \n",
       "1       Own Home      1025487.0                    10        0.0   \n",
       "2  Home Mortgage       751412.0                     8        0.0   \n",
       "3       Own Home       805068.0                     6        0.0   \n",
       "4           Rent       776264.0                     8        0.0   \n",
       "\n",
       "   Number of Open Accounts  Years of Credit History  Maximum Open Credit  \\\n",
       "0                     11.0                26.299999             685960.0   \n",
       "1                     15.0                15.300000            1181730.0   \n",
       "2                     11.0                35.000000            1182434.0   \n",
       "3                      8.0                22.500000             147400.0   \n",
       "4                     13.0                13.600000             385836.0   \n",
       "\n",
       "   Number of Credit Problems  Months since last delinquent  Bankruptcies  \\\n",
       "0                        1.0                           NaN           1.0   \n",
       "1                        0.0                           NaN           0.0   \n",
       "2                        0.0                           NaN           0.0   \n",
       "3                        1.0                           NaN           1.0   \n",
       "4                        1.0                           NaN           0.0   \n",
       "\n",
       "              Purpose        Term  Current Loan Amount  \\\n",
       "0  debt consolidation  Short Term          100000000.0   \n",
       "1  debt consolidation   Long Term             264968.0   \n",
       "2  debt consolidation  Short Term          100000000.0   \n",
       "3  debt consolidation  Short Term             121396.0   \n",
       "4  debt consolidation  Short Term             125840.0   \n",
       "\n",
       "   Current Credit Balance  Monthly Debt  Credit Score  Credit Default  \\\n",
       "0                 47386.0        7914.0         749.0               0   \n",
       "1                394972.0       18373.0         737.0               1   \n",
       "2                308389.0       13651.0         742.0               0   \n",
       "3                 95855.0       11338.0         694.0               0   \n",
       "4                 93309.0        7180.0         719.0               0   \n",
       "\n",
       "   YICJ_nan  MSLD_nan  \n",
       "0         1         1  \n",
       "1         0         1  \n",
       "2         0         1  \n",
       "3         0         1  \n",
       "4         0         1  "
      ]
     },
     "execution_count": 1424,
     "metadata": {},
     "output_type": "execute_result"
    }
   ],
   "source": [
    "df['MSLD_nan'] = 0\n",
    "df.loc[df['Months since last delinquent'].isna(), 'MSLD_nan'] = 1\n",
    "df[df['MSLD_nan'] == 1].head()"
   ]
  },
  {
   "cell_type": "code",
   "execution_count": 1425,
   "id": "07751c44",
   "metadata": {},
   "outputs": [
    {
     "data": {
      "image/png": "[encoded data removed]",
      "text/plain": [
       "<Figure size 720x360 with 1 Axes>"
      ]
     },
     "metadata": {
      "needs_background": "light"
     },
     "output_type": "display_data"
    }
   ],
   "source": [
    "plt.figure(figsize = (10,5))\n",
    "sns.barplot(y = df['Months since last delinquent'], x = df['Bankruptcies'], data = df)\n",
    "\n",
    "plt.show()"
   ]
  },
  {
   "cell_type": "markdown",
   "id": "c89f6554",
   "metadata": {},
   "source": [
    "Прослеживается положительная корреляция между кол-вом банкротств и кол-вом месяцев с последней просрочки платежа\n",
    "\n",
    "Заменим пропуски в кол-ве месяцев просрочки в соответствии с кол-вом банкротств"
   ]
  },
  {
   "cell_type": "code",
   "execution_count": 1426,
   "id": "78cb9730",
   "metadata": {},
   "outputs": [
    {
     "data": {
      "text/html": [
       "<div>\n",
       "<style scoped>\n",
       "    .dataframe tbody tr th:only-of-type {\n",
       "        vertical-align: middle;\n",
       "    }\n",
       "\n",
       "    .dataframe tbody tr th {\n",
       "        vertical-align: top;\n",
       "    }\n",
       "\n",
       "    .dataframe thead th {\n",
       "        text-align: right;\n",
       "    }\n",
       "</style>\n",
       "<table border=\"1\" class=\"dataframe\">\n",
       "  <thead>\n",
       "    <tr style=\"text-align: right;\">\n",
       "      <th></th>\n",
       "      <th>mean</th>\n",
       "      <th>median</th>\n",
       "      <th>size</th>\n",
       "    </tr>\n",
       "    <tr>\n",
       "      <th>Bankruptcies</th>\n",
       "      <th></th>\n",
       "      <th></th>\n",
       "      <th></th>\n",
       "    </tr>\n",
       "  </thead>\n",
       "  <tbody>\n",
       "    <tr>\n",
       "      <th>0.0</th>\n",
       "      <td>33.509991</td>\n",
       "      <td>31.0</td>\n",
       "      <td>6674.0</td>\n",
       "    </tr>\n",
       "    <tr>\n",
       "      <th>1.0</th>\n",
       "      <td>43.994202</td>\n",
       "      <td>46.0</td>\n",
       "      <td>786.0</td>\n",
       "    </tr>\n",
       "    <tr>\n",
       "      <th>2.0</th>\n",
       "      <td>49.437500</td>\n",
       "      <td>50.5</td>\n",
       "      <td>31.0</td>\n",
       "    </tr>\n",
       "    <tr>\n",
       "      <th>3.0</th>\n",
       "      <td>65.250000</td>\n",
       "      <td>67.0</td>\n",
       "      <td>7.0</td>\n",
       "    </tr>\n",
       "    <tr>\n",
       "      <th>4.0</th>\n",
       "      <td>78.000000</td>\n",
       "      <td>78.0</td>\n",
       "      <td>2.0</td>\n",
       "    </tr>\n",
       "  </tbody>\n",
       "</table>\n",
       "</div>"
      ],
      "text/plain": [
       "                   mean  median    size\n",
       "Bankruptcies                           \n",
       "0.0           33.509991    31.0  6674.0\n",
       "1.0           43.994202    46.0   786.0\n",
       "2.0           49.437500    50.5    31.0\n",
       "3.0           65.250000    67.0     7.0\n",
       "4.0           78.000000    78.0     2.0"
      ]
     },
     "execution_count": 1426,
     "metadata": {},
     "output_type": "execute_result"
    }
   ],
   "source": [
    "df.groupby('Bankruptcies')['Months since last delinquent'].agg([np.mean, np.median, np.size])"
   ]
  },
  {
   "cell_type": "code",
   "execution_count": 1427,
   "id": "628de596",
   "metadata": {},
   "outputs": [],
   "source": [
    "df['Months since last delinquent'] = \\\n",
    "df.groupby('Bankruptcies')['Months since last delinquent'].transform(lambda x: x.fillna(x.median()))"
   ]
  },
  {
   "cell_type": "code",
   "execution_count": 1428,
   "id": "91148611",
   "metadata": {},
   "outputs": [
    {
     "data": {
      "text/plain": [
       "0"
      ]
     },
     "execution_count": 1428,
     "metadata": {},
     "output_type": "execute_result"
    }
   ],
   "source": [
    "df['Months since last delinquent'].isna().sum()"
   ]
  },
  {
   "cell_type": "code",
   "execution_count": 1429,
   "id": "d3b19880",
   "metadata": {},
   "outputs": [],
   "source": [
    "# на случай если все же остались пропуски\n",
    "df['Months since last delinquent'].fillna(df['Months since last delinquent'].median(), inplace=True)"
   ]
  },
  {
   "cell_type": "markdown",
   "id": "a78dba1a",
   "metadata": {},
   "source": [
    "#### Annual Income и Credit Score"
   ]
  },
  {
   "cell_type": "code",
   "execution_count": 1430,
   "id": "ffbed036",
   "metadata": {},
   "outputs": [
    {
     "data": {
      "text/plain": [
       "(1557, 19)"
      ]
     },
     "execution_count": 1430,
     "metadata": {},
     "output_type": "execute_result"
    }
   ],
   "source": [
    "condition = (df['Annual Income'].isna() & df['Credit Score'].isna())\n",
    "df.loc[condition].shape"
   ]
  },
  {
   "cell_type": "code",
   "execution_count": 1431,
   "id": "20dc4dc3",
   "metadata": {},
   "outputs": [],
   "source": [
    "df['AI_CS_nan'] = 0\n",
    "df.loc[df['Annual Income'].isna(), 'AI_CS_nan'] = 1"
   ]
  },
  {
   "cell_type": "code",
   "execution_count": 1432,
   "id": "d56d635a",
   "metadata": {},
   "outputs": [],
   "source": [
    "df['Annual Income'].fillna(df['Annual Income'].median(), inplace=True)"
   ]
  },
  {
   "cell_type": "code",
   "execution_count": 1433,
   "id": "0ffd52ac",
   "metadata": {},
   "outputs": [],
   "source": [
    "df['Credit Score'].fillna(df['Credit Score'].median(), inplace=True)"
   ]
  },
  {
   "cell_type": "code",
   "execution_count": 1434,
   "id": "7510671f",
   "metadata": {},
   "outputs": [
    {
     "data": {
      "text/plain": [
       "0"
      ]
     },
     "execution_count": 1434,
     "metadata": {},
     "output_type": "execute_result"
    }
   ],
   "source": [
    "df.isna().sum().sum()"
   ]
  },
  {
   "cell_type": "markdown",
   "id": "00a6c636",
   "metadata": {},
   "source": [
    "### Обработка выбросов"
   ]
  },
  {
   "cell_type": "markdown",
   "id": "c1cd8673",
   "metadata": {},
   "source": [
    "#### Maximum Open Credit"
   ]
  },
  {
   "cell_type": "code",
   "execution_count": 1435,
   "id": "85b1ff3f",
   "metadata": {},
   "outputs": [
    {
     "data": {
      "image/png": "[encoded data removed]",
      "text/plain": [
       "<Figure size 1440x216 with 1 Axes>"
      ]
     },
     "metadata": {
      "needs_background": "light"
     },
     "output_type": "display_data"
    }
   ],
   "source": [
    "plt.figure(figsize=(20, 3))\n",
    "\n",
    "plt.subplot()\n",
    "sns.boxplot(df['Maximum Open Credit'], whis=1.5)\n",
    "plt.xlabel('Maximum Open Credit')\n",
    "\n",
    "plt.show()"
   ]
  },
  {
   "cell_type": "code",
   "execution_count": 1436,
   "id": "1aac3c45",
   "metadata": {},
   "outputs": [],
   "source": [
    "moc_max = df['Maximum Open Credit'].quantile(0.999)\n",
    "condition = df['Maximum Open Credit'] > moc_max\n",
    "df.loc[condition, 'Maximum Open Credit'] = df['Maximum Open Credit'].median()"
   ]
  },
  {
   "cell_type": "markdown",
   "id": "d59e72e6",
   "metadata": {},
   "source": [
    "#### Current Loan Amount"
   ]
  },
  {
   "cell_type": "code",
   "execution_count": 1437,
   "id": "4bd7bc5a",
   "metadata": {},
   "outputs": [
    {
     "data": {
      "image/png": "[encoded data removed]",
      "text/plain": [
       "<Figure size 1440x216 with 1 Axes>"
      ]
     },
     "metadata": {
      "needs_background": "light"
     },
     "output_type": "display_data"
    }
   ],
   "source": [
    "plt.figure(figsize=(20, 3))\n",
    "\n",
    "plt.subplot()\n",
    "sns.boxplot(df['Current Loan Amount'], whis=1.5)\n",
    "plt.xlabel('Current Loan Amount')\n",
    "\n",
    "plt.show()"
   ]
  },
  {
   "cell_type": "code",
   "execution_count": 1438,
   "id": "98418b4e",
   "metadata": {},
   "outputs": [
    {
     "data": {
      "text/plain": [
       "100000000.0    870\n",
       "89298.0          6\n",
       "218064.0         6\n",
       "216106.0         5\n",
       "265826.0         5\n",
       "              ... \n",
       "222860.0         1\n",
       "104324.0         1\n",
       "201080.0         1\n",
       "427812.0         1\n",
       "191136.0         1\n",
       "Name: Current Loan Amount, Length: 5386, dtype: int64"
      ]
     },
     "execution_count": 1438,
     "metadata": {},
     "output_type": "execute_result"
    }
   ],
   "source": [
    "df['Current Loan Amount'].value_counts()"
   ]
  },
  {
   "cell_type": "markdown",
   "id": "8ad2da55",
   "metadata": {},
   "source": [
    "Наблюдаем ряд наблюдений со странным максимальным значением, заменим их на медиану, вычисленную без учета значений-выбросов"
   ]
  },
  {
   "cell_type": "code",
   "execution_count": 1439,
   "id": "6c59e3bb",
   "metadata": {},
   "outputs": [],
   "source": [
    "df['CLA_outlier'] = 0\n",
    "df.loc[df['Current Loan Amount'] == df['Current Loan Amount'].max(), 'CLA_outlier'] = 1"
   ]
  },
  {
   "cell_type": "code",
   "execution_count": 1440,
   "id": "ac25a228",
   "metadata": {},
   "outputs": [
    {
     "data": {
      "text/plain": [
       "265826.0"
      ]
     },
     "execution_count": 1440,
     "metadata": {},
     "output_type": "execute_result"
    }
   ],
   "source": [
    "condition = df['Current Loan Amount'] < df['Current Loan Amount'].max()\n",
    "df_cla_median = df[condition]['Current Loan Amount'].median()\n",
    "df_cla_median"
   ]
  },
  {
   "cell_type": "code",
   "execution_count": 1441,
   "id": "545d5bd9",
   "metadata": {},
   "outputs": [],
   "source": [
    "df.loc[df['Current Loan Amount'] == df['Current Loan Amount'].max(), 'Current Loan Amount'] = df_cla_median"
   ]
  },
  {
   "cell_type": "markdown",
   "id": "61d4d42f",
   "metadata": {},
   "source": [
    "#### Credit Score"
   ]
  },
  {
   "cell_type": "code",
   "execution_count": 1442,
   "id": "fad7c99f",
   "metadata": {},
   "outputs": [
    {
     "data": {
      "image/png": "[encoded data removed]",
      "text/plain": [
       "<Figure size 1440x216 with 1 Axes>"
      ]
     },
     "metadata": {
      "needs_background": "light"
     },
     "output_type": "display_data"
    }
   ],
   "source": [
    "plt.figure(figsize=(20, 3))\n",
    "\n",
    "plt.subplot()\n",
    "sns.boxplot(df['Credit Score'], whis=1.5)\n",
    "plt.xlabel('Credit Score')\n",
    "\n",
    "plt.show()"
   ]
  },
  {
   "cell_type": "markdown",
   "id": "4997ded8",
   "metadata": {},
   "source": [
    "Наблюдаем ряд странных наблюдений со значением Credit Score > 6000, сделаем для них отдельный признак, заменять не будем"
   ]
  },
  {
   "cell_type": "code",
   "execution_count": 1443,
   "id": "bc20f15b",
   "metadata": {},
   "outputs": [],
   "source": [
    "df['CS_outlier'] = 0\n",
    "df.loc[df['Credit Score'] > 6000, 'CS_outlier'] = 1"
   ]
  },
  {
   "cell_type": "markdown",
   "id": "34cc3de4",
   "metadata": {},
   "source": [
    "**Корреляция с признаками**"
   ]
  },
  {
   "cell_type": "code",
   "execution_count": 1444,
   "id": "11a74e7a",
   "metadata": {},
   "outputs": [],
   "source": [
    "TARGET_NAME = 'Credit Default'\n",
    "FEATURE_NAMES = df.columns.drop(TARGET_NAME).tolist()"
   ]
  },
  {
   "cell_type": "code",
   "execution_count": 1445,
   "id": "053b1998",
   "metadata": {},
   "outputs": [
    {
     "data": {
      "image/png": "[encoded data removed]",
      "text/plain": [
       "<Figure size 720x576 with 1 Axes>"
      ]
     },
     "metadata": {
      "needs_background": "light"
     },
     "output_type": "display_data"
    }
   ],
   "source": [
    "corr_with_target = df[FEATURE_NAMES + [TARGET_NAME]].corr().iloc[:-1, -1].sort_values(ascending=False)\n",
    "\n",
    "plt.figure(figsize=(10, 8))\n",
    "\n",
    "sns.barplot(x=corr_with_target.values, y=corr_with_target.index)\n",
    "\n",
    "plt.title('Correlation with target variable')\n",
    "plt.show()"
   ]
  },
  {
   "cell_type": "code",
   "execution_count": 1446,
   "id": "89792ac2",
   "metadata": {},
   "outputs": [
    {
     "data": {
      "text/plain": [
       "(['Annual Income',\n",
       "  'Years in current job',\n",
       "  'Tax Liens',\n",
       "  'Number of Open Accounts',\n",
       "  'Years of Credit History',\n",
       "  'Maximum Open Credit',\n",
       "  'Number of Credit Problems',\n",
       "  'Months since last delinquent',\n",
       "  'Bankruptcies',\n",
       "  'Current Loan Amount',\n",
       "  'Current Credit Balance',\n",
       "  'Monthly Debt',\n",
       "  'Credit Score',\n",
       "  'Credit Default',\n",
       "  'YICJ_nan',\n",
       "  'MSLD_nan',\n",
       "  'AI_CS_nan',\n",
       "  'CLA_outlier',\n",
       "  'CS_outlier'],\n",
       " ['Home Ownership', 'Purpose', 'Term'])"
      ]
     },
     "execution_count": 1446,
     "metadata": {},
     "output_type": "execute_result"
    }
   ],
   "source": [
    "NUM_FEATURE_NAMES = df.select_dtypes(include=['number']).columns.tolist()\n",
    "CAT_FEATURE_NAMES = df.select_dtypes(include=['category']).columns.tolist()\n",
    "\n",
    "NUM_FEATURE_NAMES, CAT_FEATURE_NAMES"
   ]
  },
  {
   "cell_type": "markdown",
   "id": "0492ad41",
   "metadata": {},
   "source": [
    "### Разбиение на train и test"
   ]
  },
  {
   "cell_type": "code",
   "execution_count": 1447,
   "id": "bda7bae7",
   "metadata": {},
   "outputs": [],
   "source": [
    "X = df[FEATURE_NAMES]\n",
    "y = df[TARGET_NAME]\n",
    "\n",
    "X_train, X_test, y_train, y_test = train_test_split(X, y, shuffle=True, test_size=0.2, random_state=21)"
   ]
  },
  {
   "cell_type": "markdown",
   "id": "985e350d",
   "metadata": {},
   "source": [
    "### Балансировка целевой переменной"
   ]
  },
  {
   "cell_type": "code",
   "execution_count": 1448,
   "id": "3d425d9f",
   "metadata": {},
   "outputs": [
    {
     "data": {
      "text/plain": [
       "0    4304\n",
       "1    3392\n",
       "Name: Credit Default, dtype: int64"
      ]
     },
     "execution_count": 1448,
     "metadata": {},
     "output_type": "execute_result"
    }
   ],
   "source": [
    "df_for_balancing = pd.concat([X_train, y_train], axis=1)\n",
    "df_balanced = balance_df_by_target(df_for_balancing, TARGET_NAME)\n",
    "    \n",
    "df_balanced[TARGET_NAME].value_counts()"
   ]
  },
  {
   "cell_type": "code",
   "execution_count": 1449,
   "id": "e199ba41",
   "metadata": {},
   "outputs": [],
   "source": [
    "X_train = df_balanced.drop(columns=TARGET_NAME)\n",
    "y_train = df_balanced[TARGET_NAME]"
   ]
  },
  {
   "cell_type": "markdown",
   "id": "72528ce3",
   "metadata": {},
   "source": [
    "### Построение и оценка модели"
   ]
  },
  {
   "cell_type": "code",
   "execution_count": 1450,
   "id": "95b34829",
   "metadata": {},
   "outputs": [
    {
     "name": "stdout",
     "output_type": "stream",
     "text": [
      "TRAIN\n",
      "\n",
      "              precision    recall  f1-score   support\n",
      "\n",
      "           0       0.71      0.85      0.77      4304\n",
      "           1       0.74      0.55      0.63      3392\n",
      "\n",
      "    accuracy                           0.72      7696\n",
      "   macro avg       0.72      0.70      0.70      7696\n",
      "weighted avg       0.72      0.72      0.71      7696\n",
      "\n",
      "TEST\n",
      "\n",
      "              precision    recall  f1-score   support\n",
      "\n",
      "           0       0.82      0.83      0.83      1083\n",
      "           1       0.55      0.53      0.54       417\n",
      "\n",
      "    accuracy                           0.75      1500\n",
      "   macro avg       0.69      0.68      0.68      1500\n",
      "weighted avg       0.75      0.75      0.75      1500\n",
      "\n",
      "CONFUSION MATRIX\n",
      "\n",
      "col_0             0    1\n",
      "Credit Default          \n",
      "0               902  181\n",
      "1               195  222\n"
     ]
    }
   ],
   "source": [
    "cat_features = CAT_FEATURE_NAMES\n",
    "\n",
    "final_model = catb.CatBoostClassifier(n_estimators=30, max_depth=2, learning_rate=0.346,\n",
    "                                      silent=True, random_state=21)\n",
    "final_model.fit(X_train, y_train, cat_features)\n",
    "\n",
    "y_train_pred = final_model.predict(X_train)\n",
    "y_test_pred = final_model.predict(X_test)\n",
    "\n",
    "get_classification_report(y_train, y_train_pred, y_test, y_test_pred)"
   ]
  },
  {
   "cell_type": "code",
   "execution_count": 1451,
   "id": "07877722",
   "metadata": {},
   "outputs": [
    {
     "data": {
      "text/plain": [
       "0.5414634146341464"
      ]
     },
     "execution_count": 1451,
     "metadata": {},
     "output_type": "execute_result"
    }
   ],
   "source": [
    "f1_score(y_test, y_test_pred)"
   ]
  },
  {
   "cell_type": "markdown",
   "id": "63c2eb24",
   "metadata": {},
   "source": [
    "#### Веса признаков"
   ]
  },
  {
   "cell_type": "code",
   "execution_count": 1452,
   "id": "b9b05b17",
   "metadata": {},
   "outputs": [
    {
     "data": {
      "text/html": [
       "<div>\n",
       "<style scoped>\n",
       "    .dataframe tbody tr th:only-of-type {\n",
       "        vertical-align: middle;\n",
       "    }\n",
       "\n",
       "    .dataframe tbody tr th {\n",
       "        vertical-align: top;\n",
       "    }\n",
       "\n",
       "    .dataframe thead th {\n",
       "        text-align: right;\n",
       "    }\n",
       "</style>\n",
       "<table border=\"1\" class=\"dataframe\">\n",
       "  <thead>\n",
       "    <tr style=\"text-align: right;\">\n",
       "      <th></th>\n",
       "      <th>feature_name</th>\n",
       "      <th>importance</th>\n",
       "    </tr>\n",
       "  </thead>\n",
       "  <tbody>\n",
       "    <tr>\n",
       "      <th>19</th>\n",
       "      <td>CLA_outlier</td>\n",
       "      <td>42.245284</td>\n",
       "    </tr>\n",
       "    <tr>\n",
       "      <th>20</th>\n",
       "      <td>CS_outlier</td>\n",
       "      <td>40.521790</td>\n",
       "    </tr>\n",
       "    <tr>\n",
       "      <th>15</th>\n",
       "      <td>Credit Score</td>\n",
       "      <td>9.898331</td>\n",
       "    </tr>\n",
       "    <tr>\n",
       "      <th>11</th>\n",
       "      <td>Term</td>\n",
       "      <td>2.085947</td>\n",
       "    </tr>\n",
       "    <tr>\n",
       "      <th>1</th>\n",
       "      <td>Annual Income</td>\n",
       "      <td>1.937749</td>\n",
       "    </tr>\n",
       "    <tr>\n",
       "      <th>6</th>\n",
       "      <td>Maximum Open Credit</td>\n",
       "      <td>0.774700</td>\n",
       "    </tr>\n",
       "    <tr>\n",
       "      <th>14</th>\n",
       "      <td>Monthly Debt</td>\n",
       "      <td>0.502833</td>\n",
       "    </tr>\n",
       "    <tr>\n",
       "      <th>12</th>\n",
       "      <td>Current Loan Amount</td>\n",
       "      <td>0.389705</td>\n",
       "    </tr>\n",
       "    <tr>\n",
       "      <th>0</th>\n",
       "      <td>Home Ownership</td>\n",
       "      <td>0.313852</td>\n",
       "    </tr>\n",
       "    <tr>\n",
       "      <th>4</th>\n",
       "      <td>Number of Open Accounts</td>\n",
       "      <td>0.300713</td>\n",
       "    </tr>\n",
       "    <tr>\n",
       "      <th>5</th>\n",
       "      <td>Years of Credit History</td>\n",
       "      <td>0.253981</td>\n",
       "    </tr>\n",
       "    <tr>\n",
       "      <th>13</th>\n",
       "      <td>Current Credit Balance</td>\n",
       "      <td>0.226713</td>\n",
       "    </tr>\n",
       "    <tr>\n",
       "      <th>8</th>\n",
       "      <td>Months since last delinquent</td>\n",
       "      <td>0.170746</td>\n",
       "    </tr>\n",
       "    <tr>\n",
       "      <th>16</th>\n",
       "      <td>YICJ_nan</td>\n",
       "      <td>0.158805</td>\n",
       "    </tr>\n",
       "    <tr>\n",
       "      <th>18</th>\n",
       "      <td>AI_CS_nan</td>\n",
       "      <td>0.116748</td>\n",
       "    </tr>\n",
       "    <tr>\n",
       "      <th>17</th>\n",
       "      <td>MSLD_nan</td>\n",
       "      <td>0.057610</td>\n",
       "    </tr>\n",
       "    <tr>\n",
       "      <th>3</th>\n",
       "      <td>Tax Liens</td>\n",
       "      <td>0.044493</td>\n",
       "    </tr>\n",
       "    <tr>\n",
       "      <th>9</th>\n",
       "      <td>Bankruptcies</td>\n",
       "      <td>0.000000</td>\n",
       "    </tr>\n",
       "    <tr>\n",
       "      <th>7</th>\n",
       "      <td>Number of Credit Problems</td>\n",
       "      <td>0.000000</td>\n",
       "    </tr>\n",
       "    <tr>\n",
       "      <th>2</th>\n",
       "      <td>Years in current job</td>\n",
       "      <td>0.000000</td>\n",
       "    </tr>\n",
       "  </tbody>\n",
       "</table>\n",
       "</div>"
      ],
      "text/plain": [
       "                    feature_name  importance\n",
       "19                   CLA_outlier   42.245284\n",
       "20                    CS_outlier   40.521790\n",
       "15                  Credit Score    9.898331\n",
       "11                          Term    2.085947\n",
       "1                  Annual Income    1.937749\n",
       "6            Maximum Open Credit    0.774700\n",
       "14                  Monthly Debt    0.502833\n",
       "12           Current Loan Amount    0.389705\n",
       "0                 Home Ownership    0.313852\n",
       "4        Number of Open Accounts    0.300713\n",
       "5        Years of Credit History    0.253981\n",
       "13        Current Credit Balance    0.226713\n",
       "8   Months since last delinquent    0.170746\n",
       "16                      YICJ_nan    0.158805\n",
       "18                     AI_CS_nan    0.116748\n",
       "17                      MSLD_nan    0.057610\n",
       "3                      Tax Liens    0.044493\n",
       "9                   Bankruptcies    0.000000\n",
       "7      Number of Credit Problems    0.000000\n",
       "2           Years in current job    0.000000"
      ]
     },
     "execution_count": 1452,
     "metadata": {},
     "output_type": "execute_result"
    }
   ],
   "source": [
    "feature_importances = pd.DataFrame(\n",
    "    zip(X.columns, final_model.get_feature_importance()),\n",
    "    columns=['feature_name', 'importance']\n",
    ")\n",
    "\n",
    "feature_importances.sort_values(by='importance', ascending=False, inplace=True)\n",
    "feature_importances.head(20)"
   ]
  },
  {
   "cell_type": "markdown",
   "id": "40431daf",
   "metadata": {},
   "source": [
    "### Подготовка результирующей выборки"
   ]
  },
  {
   "cell_type": "markdown",
   "id": "25c364a2",
   "metadata": {},
   "source": [
    "#### Импорт данных"
   ]
  },
  {
   "cell_type": "code",
   "execution_count": 1453,
   "id": "a8a3b86a",
   "metadata": {},
   "outputs": [
    {
     "name": "stdout",
     "output_type": "stream",
     "text": [
      "Memory usage of dataframe is 0.31 MB\n",
      "Memory usage after optimization is: 0.13 MB\n",
      "Decreased by 58.9%\n"
     ]
    }
   ],
   "source": [
    "test_df = pd.read_csv(PREDICT_PATH, sep=',')\n",
    "test_df = reduce_mem_usage(test_df)"
   ]
  },
  {
   "cell_type": "code",
   "execution_count": 1454,
   "id": "ae87f9d2",
   "metadata": {},
   "outputs": [
    {
     "data": {
      "text/html": [
       "<div>\n",
       "<style scoped>\n",
       "    .dataframe tbody tr th:only-of-type {\n",
       "        vertical-align: middle;\n",
       "    }\n",
       "\n",
       "    .dataframe tbody tr th {\n",
       "        vertical-align: top;\n",
       "    }\n",
       "\n",
       "    .dataframe thead th {\n",
       "        text-align: right;\n",
       "    }\n",
       "</style>\n",
       "<table border=\"1\" class=\"dataframe\">\n",
       "  <thead>\n",
       "    <tr style=\"text-align: right;\">\n",
       "      <th></th>\n",
       "      <th>Annual Income</th>\n",
       "      <th>Tax Liens</th>\n",
       "      <th>Number of Open Accounts</th>\n",
       "      <th>Years of Credit History</th>\n",
       "      <th>Maximum Open Credit</th>\n",
       "      <th>Number of Credit Problems</th>\n",
       "      <th>Months since last delinquent</th>\n",
       "      <th>Bankruptcies</th>\n",
       "      <th>Current Loan Amount</th>\n",
       "      <th>Current Credit Balance</th>\n",
       "      <th>Monthly Debt</th>\n",
       "      <th>Credit Score</th>\n",
       "    </tr>\n",
       "  </thead>\n",
       "  <tbody>\n",
       "    <tr>\n",
       "      <th>count</th>\n",
       "      <td>1987.00</td>\n",
       "      <td>2500.00000</td>\n",
       "      <td>2500.000000</td>\n",
       "      <td>2500.000000</td>\n",
       "      <td>2.500000e+03</td>\n",
       "      <td>2500.000000</td>\n",
       "      <td>1142.000000</td>\n",
       "      <td>2497.000000</td>\n",
       "      <td>2500.0</td>\n",
       "      <td>2.500000e+03</td>\n",
       "      <td>2500.000000</td>\n",
       "      <td>1987.000000</td>\n",
       "    </tr>\n",
       "    <tr>\n",
       "      <th>mean</th>\n",
       "      <td>1366920.75</td>\n",
       "      <td>0.03520</td>\n",
       "      <td>11.184400</td>\n",
       "      <td>18.325901</td>\n",
       "      <td>7.105701e+05</td>\n",
       "      <td>0.162000</td>\n",
       "      <td>34.181259</td>\n",
       "      <td>0.106928</td>\n",
       "      <td>12155693.0</td>\n",
       "      <td>2.963965e+05</td>\n",
       "      <td>18271.304688</td>\n",
       "      <td>1234.516846</td>\n",
       "    </tr>\n",
       "    <tr>\n",
       "      <th>std</th>\n",
       "      <td>917124.50</td>\n",
       "      <td>0.38629</td>\n",
       "      <td>4.852777</td>\n",
       "      <td>7.254657</td>\n",
       "      <td>1.511983e+06</td>\n",
       "      <td>0.559895</td>\n",
       "      <td>22.024271</td>\n",
       "      <td>0.357191</td>\n",
       "      <td>32261024.0</td>\n",
       "      <td>3.783021e+05</td>\n",
       "      <td>11543.883789</td>\n",
       "      <td>1740.216553</td>\n",
       "    </tr>\n",
       "    <tr>\n",
       "      <th>min</th>\n",
       "      <td>106533.00</td>\n",
       "      <td>0.00000</td>\n",
       "      <td>1.000000</td>\n",
       "      <td>3.900000</td>\n",
       "      <td>0.000000e+00</td>\n",
       "      <td>0.000000</td>\n",
       "      <td>0.000000</td>\n",
       "      <td>0.000000</td>\n",
       "      <td>15422.0</td>\n",
       "      <td>0.000000e+00</td>\n",
       "      <td>93.000000</td>\n",
       "      <td>585.000000</td>\n",
       "    </tr>\n",
       "    <tr>\n",
       "      <th>25%</th>\n",
       "      <td>852311.50</td>\n",
       "      <td>0.00000</td>\n",
       "      <td>8.000000</td>\n",
       "      <td>13.400000</td>\n",
       "      <td>2.785860e+05</td>\n",
       "      <td>0.000000</td>\n",
       "      <td>16.000000</td>\n",
       "      <td>0.000000</td>\n",
       "      <td>187126.5</td>\n",
       "      <td>1.101145e+05</td>\n",
       "      <td>10024.750000</td>\n",
       "      <td>710.000000</td>\n",
       "    </tr>\n",
       "    <tr>\n",
       "      <th>50%</th>\n",
       "      <td>1178475.00</td>\n",
       "      <td>0.00000</td>\n",
       "      <td>10.000000</td>\n",
       "      <td>17.000000</td>\n",
       "      <td>4.786760e+05</td>\n",
       "      <td>0.000000</td>\n",
       "      <td>30.000000</td>\n",
       "      <td>0.000000</td>\n",
       "      <td>322366.0</td>\n",
       "      <td>2.073850e+05</td>\n",
       "      <td>16642.500000</td>\n",
       "      <td>731.000000</td>\n",
       "    </tr>\n",
       "    <tr>\n",
       "      <th>75%</th>\n",
       "      <td>1629734.50</td>\n",
       "      <td>0.00000</td>\n",
       "      <td>14.000000</td>\n",
       "      <td>22.100000</td>\n",
       "      <td>8.025985e+05</td>\n",
       "      <td>0.000000</td>\n",
       "      <td>50.000000</td>\n",
       "      <td>0.000000</td>\n",
       "      <td>522582.5</td>\n",
       "      <td>3.663485e+05</td>\n",
       "      <td>24146.000000</td>\n",
       "      <td>743.000000</td>\n",
       "    </tr>\n",
       "    <tr>\n",
       "      <th>max</th>\n",
       "      <td>14975610.00</td>\n",
       "      <td>15.00000</td>\n",
       "      <td>48.000000</td>\n",
       "      <td>53.400002</td>\n",
       "      <td>5.448438e+07</td>\n",
       "      <td>15.000000</td>\n",
       "      <td>82.000000</td>\n",
       "      <td>5.000000</td>\n",
       "      <td>100000000.0</td>\n",
       "      <td>6.030087e+06</td>\n",
       "      <td>93555.000000</td>\n",
       "      <td>7480.000000</td>\n",
       "    </tr>\n",
       "  </tbody>\n",
       "</table>\n",
       "</div>"
      ],
      "text/plain": [
       "       Annual Income   Tax Liens  Number of Open Accounts  \\\n",
       "count        1987.00  2500.00000              2500.000000   \n",
       "mean      1366920.75     0.03520                11.184400   \n",
       "std        917124.50     0.38629                 4.852777   \n",
       "min        106533.00     0.00000                 1.000000   \n",
       "25%        852311.50     0.00000                 8.000000   \n",
       "50%       1178475.00     0.00000                10.000000   \n",
       "75%       1629734.50     0.00000                14.000000   \n",
       "max      14975610.00    15.00000                48.000000   \n",
       "\n",
       "       Years of Credit History  Maximum Open Credit  \\\n",
       "count              2500.000000         2.500000e+03   \n",
       "mean                 18.325901         7.105701e+05   \n",
       "std                   7.254657         1.511983e+06   \n",
       "min                   3.900000         0.000000e+00   \n",
       "25%                  13.400000         2.785860e+05   \n",
       "50%                  17.000000         4.786760e+05   \n",
       "75%                  22.100000         8.025985e+05   \n",
       "max                  53.400002         5.448438e+07   \n",
       "\n",
       "       Number of Credit Problems  Months since last delinquent  Bankruptcies  \\\n",
       "count                2500.000000                   1142.000000   2497.000000   \n",
       "mean                    0.162000                     34.181259      0.106928   \n",
       "std                     0.559895                     22.024271      0.357191   \n",
       "min                     0.000000                      0.000000      0.000000   \n",
       "25%                     0.000000                     16.000000      0.000000   \n",
       "50%                     0.000000                     30.000000      0.000000   \n",
       "75%                     0.000000                     50.000000      0.000000   \n",
       "max                    15.000000                     82.000000      5.000000   \n",
       "\n",
       "       Current Loan Amount  Current Credit Balance  Monthly Debt  Credit Score  \n",
       "count               2500.0            2.500000e+03   2500.000000   1987.000000  \n",
       "mean            12155693.0            2.963965e+05  18271.304688   1234.516846  \n",
       "std             32261024.0            3.783021e+05  11543.883789   1740.216553  \n",
       "min                15422.0            0.000000e+00     93.000000    585.000000  \n",
       "25%               187126.5            1.101145e+05  10024.750000    710.000000  \n",
       "50%               322366.0            2.073850e+05  16642.500000    731.000000  \n",
       "75%               522582.5            3.663485e+05  24146.000000    743.000000  \n",
       "max            100000000.0            6.030087e+06  93555.000000   7480.000000  "
      ]
     },
     "execution_count": 1454,
     "metadata": {},
     "output_type": "execute_result"
    }
   ],
   "source": [
    "test_df.describe()"
   ]
  },
  {
   "cell_type": "code",
   "execution_count": 1455,
   "id": "af50c3d1",
   "metadata": {},
   "outputs": [
    {
     "data": {
      "text/plain": [
       "2473"
      ]
     },
     "execution_count": 1455,
     "metadata": {},
     "output_type": "execute_result"
    }
   ],
   "source": [
    "test_df.isna().sum().sum()"
   ]
  },
  {
   "cell_type": "markdown",
   "id": "fc9aa4fe",
   "metadata": {},
   "source": [
    "#### Обработка данных"
   ]
  },
  {
   "cell_type": "code",
   "execution_count": 1456,
   "id": "7e5d5c4a",
   "metadata": {},
   "outputs": [],
   "source": [
    "# Bankruptcies - пропуски\n",
    "test_df['Bankruptcies'].fillna(0, inplace=True)\n",
    "\n",
    "# Years in current job - пропуски, преобразуем в числовой признак\n",
    "test_df['YICJ_nan'] = 0\n",
    "test_df.loc[test_df['Years in current job'].isna(), 'YICJ_nan'] = 1\n",
    "test_df['Years in current job'].cat.add_categories('nan', inplace=True)\n",
    "test_df['Years in current job'].fillna('nan', inplace=True)\n",
    "test_df = test_df.replace(mapping_dict)\n",
    "test_df['Years in current job'] = test_df['Years in current job'].astype('int')\n",
    "\n",
    "# Months since last delinquent - пропуски\n",
    "test_df['MSLD_nan'] = 0\n",
    "test_df.loc[test_df['Months since last delinquent'].isna(), 'MSLD_nan'] = 1\n",
    "test_df['Months since last delinquent'] = \\\n",
    "test_df.groupby('Bankruptcies')['Months since last delinquent'].transform(lambda x: x.fillna(x.median()))\n",
    "test_df['Months since last delinquent'].fillna(test_df['Months since last delinquent'].median(), inplace=True)\n",
    "\n",
    "# Annual Income и Credit Score - пропуски\n",
    "test_df['AI_CS_nan'] = 0\n",
    "test_df.loc[test_df['Annual Income'].isna(), 'AI_CS_nan'] = 1\n",
    "test_df['Annual Income'].fillna(test_df['Annual Income'].median(), inplace=True)\n",
    "test_df['Credit Score'].fillna(test_df['Credit Score'].median(), inplace=True)\n",
    "\n",
    "# Maximum Open Credit - обработка выбросов\n",
    "moc_max = test_df['Maximum Open Credit'].quantile(0.999)\n",
    "test_df.loc[test_df['Maximum Open Credit'] > moc_max, 'Maximum Open Credit'] = test_df['Maximum Open Credit'].median()\n",
    "\n",
    "# Current Loan Amount - обработка выбросов\n",
    "test_df['CLA_outlier'] = 0\n",
    "test_df.loc[test_df['Current Loan Amount'] == test_df['Current Loan Amount'].max(), 'CLA_outlier'] = 1\n",
    "test_df_cla_median = test_df[test_df['Current Loan Amount'] < test_df['Current Loan Amount'].max()]['Current Loan Amount'].median()\n",
    "test_df.loc[test_df['Current Loan Amount'] == test_df['Current Loan Amount'].max(), 'Current Loan Amount'] = test_df_cla_median\n",
    "\n",
    "# Credit Score - обработка выбросов\n",
    "test_df['CS_outlier'] = 0\n",
    "test_df.loc[test_df['Credit Score'] > 6000, 'CS_outlier'] = 1"
   ]
  },
  {
   "cell_type": "code",
   "execution_count": 1457,
   "id": "e42077f2",
   "metadata": {},
   "outputs": [
    {
     "data": {
      "text/plain": [
       "0"
      ]
     },
     "execution_count": 1457,
     "metadata": {},
     "output_type": "execute_result"
    }
   ],
   "source": [
    "test_df.isna().sum().sum()"
   ]
  },
  {
   "cell_type": "markdown",
   "id": "9059deb5",
   "metadata": {},
   "source": [
    "#### Сохранение результатов предсказаний финальной модели"
   ]
  },
  {
   "cell_type": "code",
   "execution_count": 1458,
   "id": "9c8f05fa",
   "metadata": {},
   "outputs": [],
   "source": [
    "y_predict = final_model.predict(test_df)"
   ]
  },
  {
   "cell_type": "code",
   "execution_count": 1459,
   "id": "883ae1be",
   "metadata": {},
   "outputs": [
    {
     "data": {
      "text/html": [
       "<div>\n",
       "<style scoped>\n",
       "    .dataframe tbody tr th:only-of-type {\n",
       "        vertical-align: middle;\n",
       "    }\n",
       "\n",
       "    .dataframe tbody tr th {\n",
       "        vertical-align: top;\n",
       "    }\n",
       "\n",
       "    .dataframe thead th {\n",
       "        text-align: right;\n",
       "    }\n",
       "</style>\n",
       "<table border=\"1\" class=\"dataframe\">\n",
       "  <thead>\n",
       "    <tr style=\"text-align: right;\">\n",
       "      <th></th>\n",
       "      <th>Id</th>\n",
       "      <th>Credit Default</th>\n",
       "    </tr>\n",
       "  </thead>\n",
       "  <tbody>\n",
       "    <tr>\n",
       "      <th>0</th>\n",
       "      <td>0</td>\n",
       "      <td>0</td>\n",
       "    </tr>\n",
       "    <tr>\n",
       "      <th>1</th>\n",
       "      <td>1</td>\n",
       "      <td>1</td>\n",
       "    </tr>\n",
       "    <tr>\n",
       "      <th>2</th>\n",
       "      <td>2</td>\n",
       "      <td>1</td>\n",
       "    </tr>\n",
       "    <tr>\n",
       "      <th>3</th>\n",
       "      <td>3</td>\n",
       "      <td>0</td>\n",
       "    </tr>\n",
       "    <tr>\n",
       "      <th>4</th>\n",
       "      <td>4</td>\n",
       "      <td>0</td>\n",
       "    </tr>\n",
       "    <tr>\n",
       "      <th>5</th>\n",
       "      <td>5</td>\n",
       "      <td>0</td>\n",
       "    </tr>\n",
       "    <tr>\n",
       "      <th>6</th>\n",
       "      <td>6</td>\n",
       "      <td>0</td>\n",
       "    </tr>\n",
       "    <tr>\n",
       "      <th>7</th>\n",
       "      <td>7</td>\n",
       "      <td>1</td>\n",
       "    </tr>\n",
       "    <tr>\n",
       "      <th>8</th>\n",
       "      <td>8</td>\n",
       "      <td>0</td>\n",
       "    </tr>\n",
       "    <tr>\n",
       "      <th>9</th>\n",
       "      <td>9</td>\n",
       "      <td>0</td>\n",
       "    </tr>\n",
       "  </tbody>\n",
       "</table>\n",
       "</div>"
      ],
      "text/plain": [
       "   Id  Credit Default\n",
       "0   0               0\n",
       "1   1               1\n",
       "2   2               1\n",
       "3   3               0\n",
       "4   4               0\n",
       "5   5               0\n",
       "6   6               0\n",
       "7   7               1\n",
       "8   8               0\n",
       "9   9               0"
      ]
     },
     "execution_count": 1459,
     "metadata": {},
     "output_type": "execute_result"
    }
   ],
   "source": [
    "preds_final = pd.DataFrame({'Id': np.arange(0,y_predict.shape[0]), 'Credit Default': y_predict})\n",
    "preds_final.to_csv('./ISeliugina_predictions.csv', index=False, encoding='utf-8', sep=',')\n",
    "preds_final.head(10)"
   ]
  }
 ],
 "metadata": {
  "kernelspec": {
   "display_name": "Python 3",
   "language": "python",
   "name": "python3"
  },
  "language_info": {
   "codemirror_mode": {
    "name": "ipython",
    "version": 3
   },
   "file_extension": ".py",
   "mimetype": "text/x-python",
   "name": "python",
   "nbconvert_exporter": "python",
   "pygments_lexer": "ipython3",
   "version": "3.8.8"
  }
 },
 "nbformat": 4,
 "nbformat_minor": 5
}
